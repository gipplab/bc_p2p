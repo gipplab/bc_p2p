{
 "cells": [
  {
   "cell_type": "markdown",
   "metadata": {},
   "source": [
    "# Notebook to Reproduce Originality Detection Findings"
   ]
  },
  {
   "cell_type": "markdown",
   "metadata": {},
   "source": [
    "## Start Testground\n",
    "\n",
    "```\n",
    "$ testground daemon\n",
    "```\n",
    "\n",
    "## Run Testplans in Docker:\n",
    "``` \n",
    "$ testground run single --plan=coopbc --testcase=bc --runner=local:docker --builder=docker:go --instances=10 --collect\n",
    "```\n",
    "\n",
    "### Run Testplans in K8S:\n",
    "```\n",
    "$ testground run single --plan=coopbc --testcase=bc --runner=cluster:k8s --builder=docker:go --instances=10 --collect --build-cfg go_proxy_mode=direct\n",
    "```"
   ]
  },
  {
   "cell_type": "markdown",
   "metadata": {},
   "source": [
    "# Parsing Outputs"
   ]
  },
  {
   "cell_type": "markdown",
   "metadata": {},
   "source": [
    "### Find Output Dirs"
   ]
  },
  {
   "cell_type": "code",
   "execution_count": 146,
   "metadata": {},
   "outputs": [
    {
     "name": "stdout",
     "output_type": "stream",
     "text": [
      "['c6vns7d8gb19og3qh6gg', 'c6vnsmd8gb19og3qh6h0', 'c6vnrod8gb19og3qh6g0']\n"
     ]
    }
   ],
   "source": [
    "import os\n",
    "\n",
    "outputs_folder = \"c6vhkft8gb1ak76ffd00\"\n",
    "\n",
    "docker_data_dir = \"../outputs/local_docker/coopbc/\"\n",
    "directory_contents = os.listdir(docker_data_dir)\n",
    "print(directory_contents)"
   ]
  },
  {
   "cell_type": "markdown",
   "metadata": {},
   "source": [
    "### Find all .out files and map them to their RUNID"
   ]
  },
  {
   "cell_type": "code",
   "execution_count": 147,
   "metadata": {
    "scrolled": false,
    "tags": []
   },
   "outputs": [
    {
     "name": "stdout",
     "output_type": "stream",
     "text": [
      "../outputs/local_docker/coopbc/c6vns7d8gb19og3qh6gg\n",
      "../outputs/local_docker/coopbc/c6vnsmd8gb19og3qh6h0\n",
      "../outputs/local_docker/coopbc/c6vnrod8gb19og3qh6g0\n",
      "{'c6vns7d8gb19og3qh6gg': ['/home/manjaro/GIT/bc_p2p/src/go/bc_dht/data/outputs/local_docker/coopbc/c6vns7d8gb19og3qh6gg', '/home/manjaro/GIT/bc_p2p/src/go/bc_dht/data/outputs/local_docker/coopbc/c6vns7d8gb19og3qh6gg/single', '/home/manjaro/GIT/bc_p2p/src/go/bc_dht/data/outputs/local_docker/coopbc/c6vns7d8gb19og3qh6gg/single/3', '/home/manjaro/GIT/bc_p2p/src/go/bc_dht/data/outputs/local_docker/coopbc/c6vns7d8gb19og3qh6gg/single/1', '/home/manjaro/GIT/bc_p2p/src/go/bc_dht/data/outputs/local_docker/coopbc/c6vns7d8gb19og3qh6gg/single/15', '/home/manjaro/GIT/bc_p2p/src/go/bc_dht/data/outputs/local_docker/coopbc/c6vns7d8gb19og3qh6gg/single/8', '/home/manjaro/GIT/bc_p2p/src/go/bc_dht/data/outputs/local_docker/coopbc/c6vns7d8gb19og3qh6gg/single/16', '/home/manjaro/GIT/bc_p2p/src/go/bc_dht/data/outputs/local_docker/coopbc/c6vns7d8gb19og3qh6gg/single/2', '/home/manjaro/GIT/bc_p2p/src/go/bc_dht/data/outputs/local_docker/coopbc/c6vns7d8gb19og3qh6gg/single/18', '/home/manjaro/GIT/bc_p2p/src/go/bc_dht/data/outputs/local_docker/coopbc/c6vns7d8gb19og3qh6gg/single/11', '/home/manjaro/GIT/bc_p2p/src/go/bc_dht/data/outputs/local_docker/coopbc/c6vns7d8gb19og3qh6gg/single/7', '/home/manjaro/GIT/bc_p2p/src/go/bc_dht/data/outputs/local_docker/coopbc/c6vns7d8gb19og3qh6gg/single/9', '/home/manjaro/GIT/bc_p2p/src/go/bc_dht/data/outputs/local_docker/coopbc/c6vns7d8gb19og3qh6gg/single/17', '/home/manjaro/GIT/bc_p2p/src/go/bc_dht/data/outputs/local_docker/coopbc/c6vns7d8gb19og3qh6gg/single/4', '/home/manjaro/GIT/bc_p2p/src/go/bc_dht/data/outputs/local_docker/coopbc/c6vns7d8gb19og3qh6gg/single/0', '/home/manjaro/GIT/bc_p2p/src/go/bc_dht/data/outputs/local_docker/coopbc/c6vns7d8gb19og3qh6gg/single/10', '/home/manjaro/GIT/bc_p2p/src/go/bc_dht/data/outputs/local_docker/coopbc/c6vns7d8gb19og3qh6gg/single/5', '/home/manjaro/GIT/bc_p2p/src/go/bc_dht/data/outputs/local_docker/coopbc/c6vns7d8gb19og3qh6gg/single/12', '/home/manjaro/GIT/bc_p2p/src/go/bc_dht/data/outputs/local_docker/coopbc/c6vns7d8gb19og3qh6gg/single/19', '/home/manjaro/GIT/bc_p2p/src/go/bc_dht/data/outputs/local_docker/coopbc/c6vns7d8gb19og3qh6gg/single/13', '/home/manjaro/GIT/bc_p2p/src/go/bc_dht/data/outputs/local_docker/coopbc/c6vns7d8gb19og3qh6gg/single/6', '/home/manjaro/GIT/bc_p2p/src/go/bc_dht/data/outputs/local_docker/coopbc/c6vns7d8gb19og3qh6gg/single/14'], 'c6vnsmd8gb19og3qh6h0': ['/home/manjaro/GIT/bc_p2p/src/go/bc_dht/data/outputs/local_docker/coopbc/c6vnsmd8gb19og3qh6h0', '/home/manjaro/GIT/bc_p2p/src/go/bc_dht/data/outputs/local_docker/coopbc/c6vnsmd8gb19og3qh6h0/single', '/home/manjaro/GIT/bc_p2p/src/go/bc_dht/data/outputs/local_docker/coopbc/c6vnsmd8gb19og3qh6h0/single/3', '/home/manjaro/GIT/bc_p2p/src/go/bc_dht/data/outputs/local_docker/coopbc/c6vnsmd8gb19og3qh6h0/single/26', '/home/manjaro/GIT/bc_p2p/src/go/bc_dht/data/outputs/local_docker/coopbc/c6vnsmd8gb19og3qh6h0/single/29', '/home/manjaro/GIT/bc_p2p/src/go/bc_dht/data/outputs/local_docker/coopbc/c6vnsmd8gb19og3qh6h0/single/1', '/home/manjaro/GIT/bc_p2p/src/go/bc_dht/data/outputs/local_docker/coopbc/c6vnsmd8gb19og3qh6h0/single/15', '/home/manjaro/GIT/bc_p2p/src/go/bc_dht/data/outputs/local_docker/coopbc/c6vnsmd8gb19og3qh6h0/single/20', '/home/manjaro/GIT/bc_p2p/src/go/bc_dht/data/outputs/local_docker/coopbc/c6vnsmd8gb19og3qh6h0/single/8', '/home/manjaro/GIT/bc_p2p/src/go/bc_dht/data/outputs/local_docker/coopbc/c6vnsmd8gb19og3qh6h0/single/27', '/home/manjaro/GIT/bc_p2p/src/go/bc_dht/data/outputs/local_docker/coopbc/c6vnsmd8gb19og3qh6h0/single/16', '/home/manjaro/GIT/bc_p2p/src/go/bc_dht/data/outputs/local_docker/coopbc/c6vnsmd8gb19og3qh6h0/single/24', '/home/manjaro/GIT/bc_p2p/src/go/bc_dht/data/outputs/local_docker/coopbc/c6vnsmd8gb19og3qh6h0/single/21', '/home/manjaro/GIT/bc_p2p/src/go/bc_dht/data/outputs/local_docker/coopbc/c6vnsmd8gb19og3qh6h0/single/2', '/home/manjaro/GIT/bc_p2p/src/go/bc_dht/data/outputs/local_docker/coopbc/c6vnsmd8gb19og3qh6h0/single/25', '/home/manjaro/GIT/bc_p2p/src/go/bc_dht/data/outputs/local_docker/coopbc/c6vnsmd8gb19og3qh6h0/single/18', '/home/manjaro/GIT/bc_p2p/src/go/bc_dht/data/outputs/local_docker/coopbc/c6vnsmd8gb19og3qh6h0/single/11', '/home/manjaro/GIT/bc_p2p/src/go/bc_dht/data/outputs/local_docker/coopbc/c6vnsmd8gb19og3qh6h0/single/7', '/home/manjaro/GIT/bc_p2p/src/go/bc_dht/data/outputs/local_docker/coopbc/c6vnsmd8gb19og3qh6h0/single/9', '/home/manjaro/GIT/bc_p2p/src/go/bc_dht/data/outputs/local_docker/coopbc/c6vnsmd8gb19og3qh6h0/single/17', '/home/manjaro/GIT/bc_p2p/src/go/bc_dht/data/outputs/local_docker/coopbc/c6vnsmd8gb19og3qh6h0/single/28', '/home/manjaro/GIT/bc_p2p/src/go/bc_dht/data/outputs/local_docker/coopbc/c6vnsmd8gb19og3qh6h0/single/4', '/home/manjaro/GIT/bc_p2p/src/go/bc_dht/data/outputs/local_docker/coopbc/c6vnsmd8gb19og3qh6h0/single/23', '/home/manjaro/GIT/bc_p2p/src/go/bc_dht/data/outputs/local_docker/coopbc/c6vnsmd8gb19og3qh6h0/single/0', '/home/manjaro/GIT/bc_p2p/src/go/bc_dht/data/outputs/local_docker/coopbc/c6vnsmd8gb19og3qh6h0/single/10', '/home/manjaro/GIT/bc_p2p/src/go/bc_dht/data/outputs/local_docker/coopbc/c6vnsmd8gb19og3qh6h0/single/5', '/home/manjaro/GIT/bc_p2p/src/go/bc_dht/data/outputs/local_docker/coopbc/c6vnsmd8gb19og3qh6h0/single/12', '/home/manjaro/GIT/bc_p2p/src/go/bc_dht/data/outputs/local_docker/coopbc/c6vnsmd8gb19og3qh6h0/single/19', '/home/manjaro/GIT/bc_p2p/src/go/bc_dht/data/outputs/local_docker/coopbc/c6vnsmd8gb19og3qh6h0/single/22', '/home/manjaro/GIT/bc_p2p/src/go/bc_dht/data/outputs/local_docker/coopbc/c6vnsmd8gb19og3qh6h0/single/13', '/home/manjaro/GIT/bc_p2p/src/go/bc_dht/data/outputs/local_docker/coopbc/c6vnsmd8gb19og3qh6h0/single/6', '/home/manjaro/GIT/bc_p2p/src/go/bc_dht/data/outputs/local_docker/coopbc/c6vnsmd8gb19og3qh6h0/single/14'], 'c6vnrod8gb19og3qh6g0': ['/home/manjaro/GIT/bc_p2p/src/go/bc_dht/data/outputs/local_docker/coopbc/c6vnrod8gb19og3qh6g0', '/home/manjaro/GIT/bc_p2p/src/go/bc_dht/data/outputs/local_docker/coopbc/c6vnrod8gb19og3qh6g0/single', '/home/manjaro/GIT/bc_p2p/src/go/bc_dht/data/outputs/local_docker/coopbc/c6vnrod8gb19og3qh6g0/single/3', '/home/manjaro/GIT/bc_p2p/src/go/bc_dht/data/outputs/local_docker/coopbc/c6vnrod8gb19og3qh6g0/single/1', '/home/manjaro/GIT/bc_p2p/src/go/bc_dht/data/outputs/local_docker/coopbc/c6vnrod8gb19og3qh6g0/single/8', '/home/manjaro/GIT/bc_p2p/src/go/bc_dht/data/outputs/local_docker/coopbc/c6vnrod8gb19og3qh6g0/single/2', '/home/manjaro/GIT/bc_p2p/src/go/bc_dht/data/outputs/local_docker/coopbc/c6vnrod8gb19og3qh6g0/single/7', '/home/manjaro/GIT/bc_p2p/src/go/bc_dht/data/outputs/local_docker/coopbc/c6vnrod8gb19og3qh6g0/single/9', '/home/manjaro/GIT/bc_p2p/src/go/bc_dht/data/outputs/local_docker/coopbc/c6vnrod8gb19og3qh6g0/single/4', '/home/manjaro/GIT/bc_p2p/src/go/bc_dht/data/outputs/local_docker/coopbc/c6vnrod8gb19og3qh6g0/single/0', '/home/manjaro/GIT/bc_p2p/src/go/bc_dht/data/outputs/local_docker/coopbc/c6vnrod8gb19og3qh6g0/single/5', '/home/manjaro/GIT/bc_p2p/src/go/bc_dht/data/outputs/local_docker/coopbc/c6vnrod8gb19og3qh6g0/single/6']}\n"
     ]
    }
   ],
   "source": [
    "import os\n",
    "import pathlib\n",
    "from pathlib import Path\n",
    "import glob\n",
    "\n",
    "def listdir_r(dirpath):\n",
    "    paths=[]\n",
    "    paths.append(dirpath)\n",
    "    for path in os.listdir(dirpath):\n",
    "        rpath = os.path.join(dirpath, path)\n",
    "        if os.path.isdir(rpath):\n",
    "            subdirs = listdir_r(rpath)\n",
    "            if not subdirs == []:\n",
    "                paths.extend(subdirs)\n",
    "    return paths\n",
    "\n",
    "all_paths_dict = {}\n",
    "for d in directory_contents:\n",
    "    print(docker_data_dir + d)\n",
    "    all_paths = listdir_r(os.path.abspath(docker_data_dir + d))\n",
    "    all_paths_containing_target = [s for s in all_paths if d in s]\n",
    "    all_paths_dict[d]=all_paths_containing_target\n",
    "\n",
    "print(all_paths_dict)"
   ]
  },
  {
   "cell_type": "markdown",
   "metadata": {},
   "source": [
    "### Find target JSON Outputs in .out files "
   ]
  },
  {
   "cell_type": "code",
   "execution_count": 148,
   "metadata": {
    "tags": []
   },
   "outputs": [
    {
     "name": "stdout",
     "output_type": "stream",
     "text": [
      "{'c6vns7d8gb19og3qh6gg': ['{\"ts\":1639939643381479549,\"msg\":\"\",\"group_id\":\"single\",\"run_id\":\"c6vns7d8gb19og3qh6gg\",\"event\":{\"message_event\":{\"message\":\"Instances: 20\"}}}\\n', '{\"ts\":1639939643381495309,\"msg\":\"\",\"group_id\":\"single\",\"run_id\":\"c6vns7d8gb19og3qh6gg\",\"event\":{\"message_event\":{\"message\":\"SimLatency_ms: 80\"}}}\\n', '{\"ts\":1639939643381506229,\"msg\":\"\",\"group_id\":\"single\",\"run_id\":\"c6vns7d8gb19og3qh6gg\",\"event\":{\"message_event\":{\"message\":\"SimPeerBandwidth_bps: 1048576\"}}}\\n', '{\"ts\":1639939643381515326,\"msg\":\"\",\"group_id\":\"single\",\"run_id\":\"c6vns7d8gb19og3qh6gg\",\"event\":{\"message_event\":{\"message\":\"SimJitter_ms: 5\"}}}\\n', '{\"ts\":1639939643381526317,\"msg\":\"\",\"group_id\":\"single\",\"run_id\":\"c6vns7d8gb19og3qh6gg\",\"event\":{\"message_event\":{\"message\":\"SimLoss_pct: 1\"}}}\\n', '{\"ts\":1639939643381537628,\"msg\":\"\",\"group_id\":\"single\",\"run_id\":\"c6vns7d8gb19og3qh6gg\",\"event\":{\"message_event\":{\"message\":\"SimCorrupt_pct: 1\"}}}\\n', '{\"ts\":1639939643381548428,\"msg\":\"\",\"group_id\":\"single\",\"run_id\":\"c6vns7d8gb19og3qh6gg\",\"event\":{\"message_event\":{\"message\":\"S2CheckDuration_s: 5.815842761\"}}}\\n', '{\"ts\":1639939643381559509,\"msg\":\"\",\"group_id\":\"single\",\"run_id\":\"c6vns7d8gb19og3qh6gg\",\"event\":{\"message_event\":{\"message\":\"OriginalityRatio_RO: 0.7\"}}}\\n', '{\"ts\":1639939643381569367,\"msg\":\"\",\"group_id\":\"single\",\"run_id\":\"c6vns7d8gb19og3qh6gg\",\"event\":{\"message_event\":{\"message\":\"UploadedOriginalCombinations: 14\"}}}\\n', '{\"ts\":1639939643381578684,\"msg\":\"\",\"group_id\":\"single\",\"run_id\":\"c6vns7d8gb19og3qh6gg\",\"event\":{\"message_event\":{\"message\":\"DhtUploadDuration_s: 6.015219912\"}}}\\n', '{\"ts\":1639939643381588533,\"msg\":\"\",\"group_id\":\"single\",\"run_id\":\"c6vns7d8gb19og3qh6gg\",\"event\":{\"message_event\":{\"message\":\"DhtQueryDuration_ms: 19.700734\"}}}\\n', '{\"ts\":1639939643381596979,\"msg\":\"\",\"group_id\":\"single\",\"run_id\":\"c6vns7d8gb19og3qh6gg\",\"event\":{\"message_event\":{\"message\":\"__________________\"}}}\\n', '{\"ts\":1639939643381618549,\"msg\":\"\",\"group_id\":\"single\",\"run_id\":\"c6vns7d8gb19og3qh6gg\",\"event\":{\"message_event\":{\"message\":\"releasing peers!\"}}}\\n'], 'c6vnsmd8gb19og3qh6h0': ['{\"ts\":1639939709829715021,\"msg\":\"\",\"group_id\":\"single\",\"run_id\":\"c6vnsmd8gb19og3qh6h0\",\"event\":{\"message_event\":{\"message\":\"Instances: 30\"}}}\\n', '{\"ts\":1639939709829737683,\"msg\":\"\",\"group_id\":\"single\",\"run_id\":\"c6vnsmd8gb19og3qh6h0\",\"event\":{\"message_event\":{\"message\":\"SimLatency_ms: 80\"}}}\\n', '{\"ts\":1639939709829752010,\"msg\":\"\",\"group_id\":\"single\",\"run_id\":\"c6vnsmd8gb19og3qh6h0\",\"event\":{\"message_event\":{\"message\":\"SimPeerBandwidth_bps: 1048576\"}}}\\n', '{\"ts\":1639939709829763371,\"msg\":\"\",\"group_id\":\"single\",\"run_id\":\"c6vnsmd8gb19og3qh6h0\",\"event\":{\"message_event\":{\"message\":\"SimJitter_ms: 5\"}}}\\n', '{\"ts\":1639939709829777247,\"msg\":\"\",\"group_id\":\"single\",\"run_id\":\"c6vnsmd8gb19og3qh6h0\",\"event\":{\"message_event\":{\"message\":\"SimLoss_pct: 1\"}}}\\n', '{\"ts\":1639939709829789300,\"msg\":\"\",\"group_id\":\"single\",\"run_id\":\"c6vnsmd8gb19og3qh6h0\",\"event\":{\"message_event\":{\"message\":\"SimCorrupt_pct: 1\"}}}\\n', '{\"ts\":1639939709829800440,\"msg\":\"\",\"group_id\":\"single\",\"run_id\":\"c6vnsmd8gb19og3qh6h0\",\"event\":{\"message_event\":{\"message\":\"S2CheckDuration_s: 6.059036505\"}}}\\n', '{\"ts\":1639939709829812082,\"msg\":\"\",\"group_id\":\"single\",\"run_id\":\"c6vnsmd8gb19og3qh6h0\",\"event\":{\"message_event\":{\"message\":\"OriginalityRatio_RO: 0.7\"}}}\\n', '{\"ts\":1639939709829823113,\"msg\":\"\",\"group_id\":\"single\",\"run_id\":\"c6vnsmd8gb19og3qh6h0\",\"event\":{\"message_event\":{\"message\":\"UploadedOriginalCombinations: 14\"}}}\\n', '{\"ts\":1639939709829834985,\"msg\":\"\",\"group_id\":\"single\",\"run_id\":\"c6vnsmd8gb19og3qh6h0\",\"event\":{\"message_event\":{\"message\":\"DhtUploadDuration_s: 6.602333999\"}}}\\n', '{\"ts\":1639939709829844673,\"msg\":\"\",\"group_id\":\"single\",\"run_id\":\"c6vnsmd8gb19og3qh6h0\",\"event\":{\"message_event\":{\"message\":\"DhtQueryDuration_ms: 20.254672\"}}}\\n', '{\"ts\":1639939709829856024,\"msg\":\"\",\"group_id\":\"single\",\"run_id\":\"c6vnsmd8gb19og3qh6h0\",\"event\":{\"message_event\":{\"message\":\"__________________\"}}}\\n', '{\"ts\":1639939709829878356,\"msg\":\"\",\"group_id\":\"single\",\"run_id\":\"c6vnsmd8gb19og3qh6h0\",\"event\":{\"message_event\":{\"message\":\"releasing peers!\"}}}\\n'], 'c6vnrod8gb19og3qh6g0': ['{\"ts\":1639939610310844207,\"msg\":\"\",\"group_id\":\"single\",\"run_id\":\"c6vnrod8gb19og3qh6g0\",\"event\":{\"message_event\":{\"message\":\"Instances: 10\"}}}\\n', '{\"ts\":1639939610310869114,\"msg\":\"\",\"group_id\":\"single\",\"run_id\":\"c6vnrod8gb19og3qh6g0\",\"event\":{\"message_event\":{\"message\":\"SimLatency_ms: 80\"}}}\\n', '{\"ts\":1639939610310880776,\"msg\":\"\",\"group_id\":\"single\",\"run_id\":\"c6vnrod8gb19og3qh6g0\",\"event\":{\"message_event\":{\"message\":\"SimPeerBandwidth_bps: 1048576\"}}}\\n', '{\"ts\":1639939610310893660,\"msg\":\"\",\"group_id\":\"single\",\"run_id\":\"c6vnrod8gb19og3qh6g0\",\"event\":{\"message_event\":{\"message\":\"SimJitter_ms: 5\"}}}\\n', '{\"ts\":1639939610310904009,\"msg\":\"\",\"group_id\":\"single\",\"run_id\":\"c6vnrod8gb19og3qh6g0\",\"event\":{\"message_event\":{\"message\":\"SimLoss_pct: 1\"}}}\\n', '{\"ts\":1639939610310911102,\"msg\":\"\",\"group_id\":\"single\",\"run_id\":\"c6vnrod8gb19og3qh6g0\",\"event\":{\"message_event\":{\"message\":\"SimCorrupt_pct: 1\"}}}\\n', '{\"ts\":1639939610310920330,\"msg\":\"\",\"group_id\":\"single\",\"run_id\":\"c6vnrod8gb19og3qh6g0\",\"event\":{\"message_event\":{\"message\":\"S2CheckDuration_s: 6.834352239\"}}}\\n', '{\"ts\":1639939610310931561,\"msg\":\"\",\"group_id\":\"single\",\"run_id\":\"c6vnrod8gb19og3qh6g0\",\"event\":{\"message_event\":{\"message\":\"OriginalityRatio_RO: 0.7\"}}}\\n', '{\"ts\":1639939610310943573,\"msg\":\"\",\"group_id\":\"single\",\"run_id\":\"c6vnrod8gb19og3qh6g0\",\"event\":{\"message_event\":{\"message\":\"UploadedOriginalCombinations: 14\"}}}\\n', '{\"ts\":1639939610310954183,\"msg\":\"\",\"group_id\":\"single\",\"run_id\":\"c6vnrod8gb19og3qh6g0\",\"event\":{\"message_event\":{\"message\":\"DhtUploadDuration_s: 7.151007538\"}}}\\n', '{\"ts\":1639939610310962729,\"msg\":\"\",\"group_id\":\"single\",\"run_id\":\"c6vnrod8gb19og3qh6g0\",\"event\":{\"message_event\":{\"message\":\"DhtQueryDuration_ms: 17.658881\"}}}\\n', '{\"ts\":1639939610310971004,\"msg\":\"\",\"group_id\":\"single\",\"run_id\":\"c6vnrod8gb19og3qh6g0\",\"event\":{\"message_event\":{\"message\":\"__________________\"}}}\\n', '{\"ts\":1639939610310991312,\"msg\":\"\",\"group_id\":\"single\",\"run_id\":\"c6vnrod8gb19og3qh6g0\",\"event\":{\"message_event\":{\"message\":\"releasing peers!\"}}}\\n']}\n"
     ]
    }
   ],
   "source": [
    "def check_dir_for_target_lines(search_path):\n",
    "    search_str = \"___UploaderData___\"\n",
    "    file_type = \".out\"\n",
    "    target_line = []\n",
    "    result = []\n",
    "    targets = 13 # MAGIC NUMBER for the number of outputs - i should have parsed the whole file as json and just check the exact message instead of all strings\n",
    "    success = False\n",
    "    for fname in os.listdir(path=search_path):\n",
    "        if fname.endswith(file_type):\n",
    "                fo = open(search_path + \"/\" + fname)\n",
    "                line = fo.readline()\n",
    "                line_no = 1\n",
    "                while line != '' :\n",
    "                        index = line.find(search_str)\n",
    "                        if ( index != -1) :\n",
    "                            # print(fname, \"[\", line_no, \",\", index, \"] \", line, sep=\"\")\n",
    "                            success = True\n",
    "                        line = fo.readline()\n",
    "                        if success == True and targets > 0:\n",
    "                            result.append(line)\n",
    "                            targets -= 1\n",
    "                        line_no += 1\n",
    "                fo.close()\n",
    "    return result\n",
    "\n",
    "output_lines_dict_by_runid = {}\n",
    "for d in directory_contents:\n",
    "    output = []\n",
    "    output_lines = []\n",
    "    paths_containing_target = all_paths_dict[d]\n",
    "    for pct in paths_containing_target:\n",
    "        output = check_dir_for_target_lines(pct)\n",
    "        if output:\n",
    "            for l in output:\n",
    "                # print(l)\n",
    "                output_lines.append(l)\n",
    "    output_lines_dict_by_runid[d]=output_lines\n",
    "\n",
    "print(output_lines_dict_by_runid)"
   ]
  },
  {
   "cell_type": "markdown",
   "metadata": {},
   "source": [
    "### Parse Json Results to Data Frame"
   ]
  },
  {
   "cell_type": "code",
   "execution_count": 149,
   "metadata": {},
   "outputs": [
    {
     "name": "stdout",
     "output_type": "stream",
     "text": [
      "[{'RunID': 'c6vns7d8gb19og3qh6gg', 'Instances': '20', 'SimLatency_ms': '80', 'SimPeerBandwidth_bps': '1048576', 'SimJitter_ms': '5', 'SimLoss_pct': '1', 'SimCorrupt_pct': '1', 'S2CheckDuration_s': '5.815842761', 'OriginalityRatio_RO': '0.7', 'UploadedOriginalCombinations': '14', 'DhtUploadDuration_s': '6.015219912', 'DhtQueryDuration_ms': '19.700734'}, {'RunID': 'c6vnsmd8gb19og3qh6h0', 'Instances': '30', 'SimLatency_ms': '80', 'SimPeerBandwidth_bps': '1048576', 'SimJitter_ms': '5', 'SimLoss_pct': '1', 'SimCorrupt_pct': '1', 'S2CheckDuration_s': '6.059036505', 'OriginalityRatio_RO': '0.7', 'UploadedOriginalCombinations': '14', 'DhtUploadDuration_s': '6.602333999', 'DhtQueryDuration_ms': '20.254672'}, {'RunID': 'c6vnrod8gb19og3qh6g0', 'Instances': '10', 'SimLatency_ms': '80', 'SimPeerBandwidth_bps': '1048576', 'SimJitter_ms': '5', 'SimLoss_pct': '1', 'SimCorrupt_pct': '1', 'S2CheckDuration_s': '6.834352239', 'OriginalityRatio_RO': '0.7', 'UploadedOriginalCombinations': '14', 'DhtUploadDuration_s': '7.151007538', 'DhtQueryDuration_ms': '17.658881'}]\n"
     ]
    },
    {
     "data": {
      "text/html": "<div>\n<style scoped>\n    .dataframe tbody tr th:only-of-type {\n        vertical-align: middle;\n    }\n\n    .dataframe tbody tr th {\n        vertical-align: top;\n    }\n\n    .dataframe thead th {\n        text-align: right;\n    }\n</style>\n<table border=\"1\" class=\"dataframe\">\n  <thead>\n    <tr style=\"text-align: right;\">\n      <th></th>\n      <th>RunID</th>\n      <th>Instances</th>\n      <th>SimLatency_ms</th>\n      <th>SimPeerBandwidth_bps</th>\n      <th>SimJitter_ms</th>\n      <th>SimLoss_pct</th>\n      <th>SimCorrupt_pct</th>\n      <th>S2CheckDuration_s</th>\n      <th>OriginalityRatio_RO</th>\n      <th>UploadedOriginalCombinations</th>\n      <th>DhtUploadDuration_s</th>\n      <th>DhtQueryDuration_ms</th>\n    </tr>\n  </thead>\n  <tbody>\n    <tr>\n      <th>0</th>\n      <td>c6vns7d8gb19og3qh6gg</td>\n      <td>20</td>\n      <td>80</td>\n      <td>1048576</td>\n      <td>5</td>\n      <td>1</td>\n      <td>1</td>\n      <td>5.815842761</td>\n      <td>0.7</td>\n      <td>14</td>\n      <td>6.015219912</td>\n      <td>19.700734</td>\n    </tr>\n    <tr>\n      <th>1</th>\n      <td>c6vnsmd8gb19og3qh6h0</td>\n      <td>30</td>\n      <td>80</td>\n      <td>1048576</td>\n      <td>5</td>\n      <td>1</td>\n      <td>1</td>\n      <td>6.059036505</td>\n      <td>0.7</td>\n      <td>14</td>\n      <td>6.602333999</td>\n      <td>20.254672</td>\n    </tr>\n    <tr>\n      <th>2</th>\n      <td>c6vnrod8gb19og3qh6g0</td>\n      <td>10</td>\n      <td>80</td>\n      <td>1048576</td>\n      <td>5</td>\n      <td>1</td>\n      <td>1</td>\n      <td>6.834352239</td>\n      <td>0.7</td>\n      <td>14</td>\n      <td>7.151007538</td>\n      <td>17.658881</td>\n    </tr>\n  </tbody>\n</table>\n</div>",
      "text/plain": "                  RunID Instances SimLatency_ms SimPeerBandwidth_bps  \\\n0  c6vns7d8gb19og3qh6gg        20            80              1048576   \n1  c6vnsmd8gb19og3qh6h0        30            80              1048576   \n2  c6vnrod8gb19og3qh6g0        10            80              1048576   \n\n  SimJitter_ms SimLoss_pct SimCorrupt_pct S2CheckDuration_s  \\\n0            5           1              1       5.815842761   \n1            5           1              1       6.059036505   \n2            5           1              1       6.834352239   \n\n  OriginalityRatio_RO UploadedOriginalCombinations DhtUploadDuration_s  \\\n0                 0.7                           14         6.015219912   \n1                 0.7                           14         6.602333999   \n2                 0.7                           14         7.151007538   \n\n  DhtQueryDuration_ms  \n0           19.700734  \n1           20.254672  \n2           17.658881  "
     },
     "execution_count": 149,
     "metadata": {},
     "output_type": "execute_result"
    }
   ],
   "source": [
    "import json\n",
    "import pandas as pd\n",
    "\n",
    "#d = {'Instances': [], 'Latency': [], 'Bandwidth': [], 'Jitter': [], 'Loss': [], 'Corrupt': [], 'S2CheckDuration': [], 'OriginalityRatio': [], 'OriginalCombinations': [], 'DhtUploadDuration': [], 'DhtQueryDuration': []}\n",
    "\n",
    "\n",
    "uber_data = [{}]\n",
    "for runid in output_lines_dict_by_runid:\n",
    "    kvs_dict = {}\n",
    "    kvs_dict[\"RunID\"] = runid\n",
    "    for o in output_lines_dict_by_runid[runid]:\n",
    "        m = json.loads(o)[\"event\"][\"message_event\"][\"message\"]\n",
    "        kv = m.split(\": \", 1)\n",
    "        if len(kv) > 1:\n",
    "            kvs_dict[kv[0]] = kv[1]\n",
    "    uber_data.append(kvs_dict)\n",
    "uber_data.pop(0)\n",
    "print(uber_data)\n",
    "\n",
    "my_data_frame = pd.DataFrame.from_dict(uber_data)\n",
    "my_data_frame"
   ]
  },
  {
   "cell_type": "code",
   "execution_count": 152,
   "metadata": {},
   "outputs": [
    {
     "ename": "TypeError",
     "evalue": "no numeric data to plot",
     "output_type": "error",
     "traceback": [
      "\u001b[0;31m---------------------------------------------------------------------------\u001b[0m",
      "\u001b[0;31mTypeError\u001b[0m                                 Traceback (most recent call last)",
      "\u001b[0;32m/tmp/ipykernel_699128/3041872107.py\u001b[0m in \u001b[0;36m<module>\u001b[0;34m\u001b[0m\n\u001b[1;32m      4\u001b[0m \u001b[0mmy_data_frame\u001b[0m\u001b[0;34m.\u001b[0m\u001b[0mInstances\u001b[0m\u001b[0;34m=\u001b[0m\u001b[0mpd\u001b[0m\u001b[0;34m.\u001b[0m\u001b[0mto_numeric\u001b[0m\u001b[0;34m(\u001b[0m\u001b[0mmy_data_frame\u001b[0m\u001b[0;34m.\u001b[0m\u001b[0mInstances\u001b[0m\u001b[0;34m)\u001b[0m\u001b[0;34m\u001b[0m\u001b[0;34m\u001b[0m\u001b[0m\n\u001b[1;32m      5\u001b[0m \u001b[0mmy_data_frame\u001b[0m\u001b[0;34m.\u001b[0m\u001b[0mS2CheckDuration\u001b[0m\u001b[0;34m=\u001b[0m\u001b[0mpd\u001b[0m\u001b[0;34m.\u001b[0m\u001b[0mto_numeric\u001b[0m\u001b[0;34m(\u001b[0m\u001b[0mmy_data_frame\u001b[0m\u001b[0;34m.\u001b[0m\u001b[0mS2CheckDuration_s\u001b[0m\u001b[0;34m)\u001b[0m\u001b[0;34m\u001b[0m\u001b[0;34m\u001b[0m\u001b[0m\n\u001b[0;32m----> 6\u001b[0;31m \u001b[0mmy_data_frame\u001b[0m\u001b[0;34m.\u001b[0m\u001b[0mplot\u001b[0m\u001b[0;34m(\u001b[0m\u001b[0mx\u001b[0m\u001b[0;34m=\u001b[0m\u001b[0;34m'Instances'\u001b[0m\u001b[0;34m,\u001b[0m \u001b[0my\u001b[0m\u001b[0;34m=\u001b[0m\u001b[0;34m'S2CheckDuration_s'\u001b[0m\u001b[0;34m,\u001b[0m \u001b[0mstyle\u001b[0m\u001b[0;34m=\u001b[0m\u001b[0;34m'o'\u001b[0m\u001b[0;34m)\u001b[0m\u001b[0;34m\u001b[0m\u001b[0;34m\u001b[0m\u001b[0m\n\u001b[0m",
      "\u001b[0;32m~/.local/lib/python3.9/site-packages/pandas/plotting/_core.py\u001b[0m in \u001b[0;36m__call__\u001b[0;34m(self, *args, **kwargs)\u001b[0m\n\u001b[1;32m    970\u001b[0m                     \u001b[0mdata\u001b[0m\u001b[0;34m.\u001b[0m\u001b[0mcolumns\u001b[0m \u001b[0;34m=\u001b[0m \u001b[0mlabel_name\u001b[0m\u001b[0;34m\u001b[0m\u001b[0;34m\u001b[0m\u001b[0m\n\u001b[1;32m    971\u001b[0m \u001b[0;34m\u001b[0m\u001b[0m\n\u001b[0;32m--> 972\u001b[0;31m         \u001b[0;32mreturn\u001b[0m \u001b[0mplot_backend\u001b[0m\u001b[0;34m.\u001b[0m\u001b[0mplot\u001b[0m\u001b[0;34m(\u001b[0m\u001b[0mdata\u001b[0m\u001b[0;34m,\u001b[0m \u001b[0mkind\u001b[0m\u001b[0;34m=\u001b[0m\u001b[0mkind\u001b[0m\u001b[0;34m,\u001b[0m \u001b[0;34m**\u001b[0m\u001b[0mkwargs\u001b[0m\u001b[0;34m)\u001b[0m\u001b[0;34m\u001b[0m\u001b[0;34m\u001b[0m\u001b[0m\n\u001b[0m\u001b[1;32m    973\u001b[0m \u001b[0;34m\u001b[0m\u001b[0m\n\u001b[1;32m    974\u001b[0m     \u001b[0m__call__\u001b[0m\u001b[0;34m.\u001b[0m\u001b[0m__doc__\u001b[0m \u001b[0;34m=\u001b[0m \u001b[0m__doc__\u001b[0m\u001b[0;34m\u001b[0m\u001b[0;34m\u001b[0m\u001b[0m\n",
      "\u001b[0;32m~/.local/lib/python3.9/site-packages/pandas/plotting/_matplotlib/__init__.py\u001b[0m in \u001b[0;36mplot\u001b[0;34m(data, kind, **kwargs)\u001b[0m\n\u001b[1;32m     69\u001b[0m             \u001b[0mkwargs\u001b[0m\u001b[0;34m[\u001b[0m\u001b[0;34m\"ax\"\u001b[0m\u001b[0;34m]\u001b[0m \u001b[0;34m=\u001b[0m \u001b[0mgetattr\u001b[0m\u001b[0;34m(\u001b[0m\u001b[0max\u001b[0m\u001b[0;34m,\u001b[0m \u001b[0;34m\"left_ax\"\u001b[0m\u001b[0;34m,\u001b[0m \u001b[0max\u001b[0m\u001b[0;34m)\u001b[0m\u001b[0;34m\u001b[0m\u001b[0;34m\u001b[0m\u001b[0m\n\u001b[1;32m     70\u001b[0m     \u001b[0mplot_obj\u001b[0m \u001b[0;34m=\u001b[0m \u001b[0mPLOT_CLASSES\u001b[0m\u001b[0;34m[\u001b[0m\u001b[0mkind\u001b[0m\u001b[0;34m]\u001b[0m\u001b[0;34m(\u001b[0m\u001b[0mdata\u001b[0m\u001b[0;34m,\u001b[0m \u001b[0;34m**\u001b[0m\u001b[0mkwargs\u001b[0m\u001b[0;34m)\u001b[0m\u001b[0;34m\u001b[0m\u001b[0;34m\u001b[0m\u001b[0m\n\u001b[0;32m---> 71\u001b[0;31m     \u001b[0mplot_obj\u001b[0m\u001b[0;34m.\u001b[0m\u001b[0mgenerate\u001b[0m\u001b[0;34m(\u001b[0m\u001b[0;34m)\u001b[0m\u001b[0;34m\u001b[0m\u001b[0;34m\u001b[0m\u001b[0m\n\u001b[0m\u001b[1;32m     72\u001b[0m     \u001b[0mplot_obj\u001b[0m\u001b[0;34m.\u001b[0m\u001b[0mdraw\u001b[0m\u001b[0;34m(\u001b[0m\u001b[0;34m)\u001b[0m\u001b[0;34m\u001b[0m\u001b[0;34m\u001b[0m\u001b[0m\n\u001b[1;32m     73\u001b[0m     \u001b[0;32mreturn\u001b[0m \u001b[0mplot_obj\u001b[0m\u001b[0;34m.\u001b[0m\u001b[0mresult\u001b[0m\u001b[0;34m\u001b[0m\u001b[0;34m\u001b[0m\u001b[0m\n",
      "\u001b[0;32m~/.local/lib/python3.9/site-packages/pandas/plotting/_matplotlib/core.py\u001b[0m in \u001b[0;36mgenerate\u001b[0;34m(self)\u001b[0m\n\u001b[1;32m    284\u001b[0m     \u001b[0;32mdef\u001b[0m \u001b[0mgenerate\u001b[0m\u001b[0;34m(\u001b[0m\u001b[0mself\u001b[0m\u001b[0;34m)\u001b[0m\u001b[0;34m:\u001b[0m\u001b[0;34m\u001b[0m\u001b[0;34m\u001b[0m\u001b[0m\n\u001b[1;32m    285\u001b[0m         \u001b[0mself\u001b[0m\u001b[0;34m.\u001b[0m\u001b[0m_args_adjust\u001b[0m\u001b[0;34m(\u001b[0m\u001b[0;34m)\u001b[0m\u001b[0;34m\u001b[0m\u001b[0;34m\u001b[0m\u001b[0m\n\u001b[0;32m--> 286\u001b[0;31m         \u001b[0mself\u001b[0m\u001b[0;34m.\u001b[0m\u001b[0m_compute_plot_data\u001b[0m\u001b[0;34m(\u001b[0m\u001b[0;34m)\u001b[0m\u001b[0;34m\u001b[0m\u001b[0;34m\u001b[0m\u001b[0m\n\u001b[0m\u001b[1;32m    287\u001b[0m         \u001b[0mself\u001b[0m\u001b[0;34m.\u001b[0m\u001b[0m_setup_subplots\u001b[0m\u001b[0;34m(\u001b[0m\u001b[0;34m)\u001b[0m\u001b[0;34m\u001b[0m\u001b[0;34m\u001b[0m\u001b[0m\n\u001b[1;32m    288\u001b[0m         \u001b[0mself\u001b[0m\u001b[0;34m.\u001b[0m\u001b[0m_make_plot\u001b[0m\u001b[0;34m(\u001b[0m\u001b[0;34m)\u001b[0m\u001b[0;34m\u001b[0m\u001b[0;34m\u001b[0m\u001b[0m\n",
      "\u001b[0;32m~/.local/lib/python3.9/site-packages/pandas/plotting/_matplotlib/core.py\u001b[0m in \u001b[0;36m_compute_plot_data\u001b[0;34m(self)\u001b[0m\n\u001b[1;32m    451\u001b[0m         \u001b[0;31m# no non-numeric frames or series allowed\u001b[0m\u001b[0;34m\u001b[0m\u001b[0;34m\u001b[0m\u001b[0m\n\u001b[1;32m    452\u001b[0m         \u001b[0;32mif\u001b[0m \u001b[0mis_empty\u001b[0m\u001b[0;34m:\u001b[0m\u001b[0;34m\u001b[0m\u001b[0;34m\u001b[0m\u001b[0m\n\u001b[0;32m--> 453\u001b[0;31m             \u001b[0;32mraise\u001b[0m \u001b[0mTypeError\u001b[0m\u001b[0;34m(\u001b[0m\u001b[0;34m\"no numeric data to plot\"\u001b[0m\u001b[0;34m)\u001b[0m\u001b[0;34m\u001b[0m\u001b[0;34m\u001b[0m\u001b[0m\n\u001b[0m\u001b[1;32m    454\u001b[0m \u001b[0;34m\u001b[0m\u001b[0m\n\u001b[1;32m    455\u001b[0m         \u001b[0mself\u001b[0m\u001b[0;34m.\u001b[0m\u001b[0mdata\u001b[0m \u001b[0;34m=\u001b[0m \u001b[0mnumeric_data\u001b[0m\u001b[0;34m.\u001b[0m\u001b[0mapply\u001b[0m\u001b[0;34m(\u001b[0m\u001b[0mself\u001b[0m\u001b[0;34m.\u001b[0m\u001b[0m_convert_to_ndarray\u001b[0m\u001b[0;34m)\u001b[0m\u001b[0;34m\u001b[0m\u001b[0;34m\u001b[0m\u001b[0m\n",
      "\u001b[0;31mTypeError\u001b[0m: no numeric data to plot"
     ]
    }
   ],
   "source": [
    "import matplotlib.pyplot as plt\n",
    "import numpy as np\n",
    "\n",
    "my_data_frame.Instances=pd.to_numeric(my_data_frame.Instances)\n",
    "my_data_frame.S2CheckDuration=pd.to_numeric(my_data_frame.S2CheckDuration_s)\n",
    "my_data_frame.dtypes\n",
    "#my_data_frame.plot(x='Instances', y='S2CheckDuration_s', style='o')"
   ]
  },
  {
   "cell_type": "markdown",
   "metadata": {},
   "source": [
    "### Figures from DataFrame"
   ]
  },
  {
   "cell_type": "code",
   "execution_count": 95,
   "metadata": {},
   "outputs": [
    {
     "ename": "NameError",
     "evalue": "name 'plt' is not defined",
     "output_type": "error",
     "traceback": [
      "\u001b[0;31m---------------------------------------------------------------------------\u001b[0m",
      "\u001b[0;31mNameError\u001b[0m                                 Traceback (most recent call last)",
      "\u001b[0;32m/tmp/ipykernel_699128/2273761208.py\u001b[0m in \u001b[0;36m<module>\u001b[0;34m\u001b[0m\n\u001b[0;32m----> 1\u001b[0;31m \u001b[0mplt\u001b[0m\u001b[0;34m.\u001b[0m\u001b[0mfigure\u001b[0m\u001b[0;34m(\u001b[0m\u001b[0;34m)\u001b[0m\u001b[0;34m\u001b[0m\u001b[0;34m\u001b[0m\u001b[0m\n\u001b[0m",
      "\u001b[0;31mNameError\u001b[0m: name 'plt' is not defined"
     ]
    }
   ],
   "source": [
    "df.plot()"
   ]
  }
 ],
 "metadata": {
  "kernelspec": {
   "display_name": "Python 3 (ipykernel)",
   "language": "python",
   "name": "python3"
  },
  "language_info": {
   "codemirror_mode": {
    "name": "ipython",
    "version": 3
   },
   "file_extension": ".py",
   "mimetype": "text/x-python",
   "name": "python",
   "nbconvert_exporter": "python",
   "pygments_lexer": "ipython3",
   "version": "3.9.9"
  }
 },
 "nbformat": 4,
 "nbformat_minor": 5
}