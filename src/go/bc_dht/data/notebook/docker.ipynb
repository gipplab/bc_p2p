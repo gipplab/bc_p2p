{
 "cells": [
  {
   "cell_type": "markdown",
   "id": "7ff96752",
   "metadata": {},
   "source": [
    "# Notebook to Reproduce Originality Detection Findings"
   ]
  },
  {
   "cell_type": "markdown",
   "id": "6191aca3",
   "metadata": {},
   "source": [
    "## Start Testground\n",
    "\n",
    "```\n",
    "$ testground daemon\n",
    "```\n",
    "\n",
    "## Run Testplans in Docker:\n",
    "``` \n",
    "$ testground run single --plan=coopbc --testcase=bc --runner=local:docker --builder=docker:go --instances=10 --collect\n",
    "```\n",
    "\n",
    "### Run Testplans in K8S:\n",
    "```\n",
    "$ testground run single --plan=coopbc --testcase=bc --runner=cluster:k8s --builder=docker:go --instances=10 --collect --build-cfg go_proxy_mode=direct\n",
    "```"
   ]
  },
  {
   "cell_type": "markdown",
   "id": "577bd455",
   "metadata": {},
   "source": [
    "# Parsing Outputs"
   ]
  },
  {
   "source": [
    "### Find Output Dir"
   ],
   "cell_type": "markdown",
   "metadata": {}
  },
  {
   "cell_type": "code",
   "execution_count": 85,
   "metadata": {},
   "outputs": [],
   "source": [
    "outputs_folder = \"c6usir58gb188nj6a000\""
   ]
  },
  {
   "cell_type": "code",
   "execution_count": 86,
   "id": "f00cc8cb",
   "metadata": {
    "scrolled": false,
    "tags": []
   },
   "outputs": [
    {
     "output_type": "stream",
     "name": "stdout",
     "text": [
      "/home/manjaro/GIT/bc_p2p/src/go/bc_dht/data/outputs/local_docker/coopbc/c6usir58gb188nj6a000\n"
     ]
    }
   ],
   "source": [
    "import os\n",
    "import pathlib\n",
    "from pathlib import Path\n",
    "import glob\n",
    "\n",
    "def listdir_r(dirpath):\n",
    "    paths=[]\n",
    "    paths.append(dirpath)\n",
    "    for path in os.listdir(dirpath):\n",
    "        rpath = os.path.join(dirpath, path)\n",
    "        if os.path.isdir(rpath):\n",
    "            subdirs = listdir_r(rpath)\n",
    "            if not subdirs == []:\n",
    "                paths.extend(subdirs)\n",
    "    return paths\n",
    "\n",
    "all_paths = listdir_r(str(Path(os.getcwd()).parent.absolute()))\n",
    "all_paths_containing_target = [s for s in all_paths if outputs_folder in s]\n",
    "target_dir = all_paths_containing_target[0]\n",
    "\n",
    "print (target_dir)\n",
    "\n"
   ]
  },
  {
   "source": [
    "### Find Outputs"
   ],
   "cell_type": "markdown",
   "metadata": {}
  },
  {
   "cell_type": "code",
   "execution_count": 131,
   "id": "5306f4df",
   "metadata": {
    "tags": []
   },
   "outputs": [
    {
     "output_type": "stream",
     "name": "stdout",
     "text": [
      "run.out[76,124] {\"ts\":1639827872994494457,\"msg\":\"\",\"group_id\":\"single\",\"run_id\":\"c6usir58gb188nj6a000\",\"event\":{\"message_event\":{\"message\":\"___UploaderData___\"}}}\n\n{\"ts\":1639827872994502773,\"msg\":\"\",\"group_id\":\"single\",\"run_id\":\"c6usir58gb188nj6a000\",\"event\":{\"message_event\":{\"message\":\"Instances: 10\"}}}\n\n{\"ts\":1639827872994516729,\"msg\":\"\",\"group_id\":\"single\",\"run_id\":\"c6usir58gb188nj6a000\",\"event\":{\"message_event\":{\"message\":\"SimLatency: 100ms\"}}}\n\n{\"ts\":1639827872994526527,\"msg\":\"\",\"group_id\":\"single\",\"run_id\":\"c6usir58gb188nj6a000\",\"event\":{\"message_event\":{\"message\":\"SimPeerBandwidth (bytes per second): 1048576\"}}}\n\n{\"ts\":1639827872994532939,\"msg\":\"\",\"group_id\":\"single\",\"run_id\":\"c6usir58gb188nj6a000\",\"event\":{\"message_event\":{\"message\":\"SimJitter (ms): 0s\"}}}\n\n{\"ts\":1639827872994542657,\"msg\":\"\",\"group_id\":\"single\",\"run_id\":\"c6usir58gb188nj6a000\",\"event\":{\"message_event\":{\"message\":\"SimLoss (%): 0\"}}}\n\n{\"ts\":1639827872994548518,\"msg\":\"\",\"group_id\":\"single\",\"run_id\":\"c6usir58gb188nj6a000\",\"event\":{\"message_event\":{\"message\":\"SimCorrupt (%): 0\"}}}\n\n{\"ts\":1639827872994556694,\"msg\":\"\",\"group_id\":\"single\",\"run_id\":\"c6usir58gb188nj6a000\",\"event\":{\"message_event\":{\"message\":\"S2CheckDuration: 4.964329012s\"}}}\n\n{\"ts\":1639827872994564198,\"msg\":\"\",\"group_id\":\"single\",\"run_id\":\"c6usir58gb188nj6a000\",\"event\":{\"message_event\":{\"message\":\"OriginalityRatio (RO): 0.7\"}}}\n\n{\"ts\":1639827872994571581,\"msg\":\"\",\"group_id\":\"single\",\"run_id\":\"c6usir58gb188nj6a000\",\"event\":{\"message_event\":{\"message\":\"UploadedOriginalCombinations: 14\"}}}\n\n{\"ts\":1639827872994577863,\"msg\":\"\",\"group_id\":\"single\",\"run_id\":\"c6usir58gb188nj6a000\",\"event\":{\"message_event\":{\"message\":\"UploadDuration: 5.354883614s\"}}}\n\n{\"ts\":1639827872994584676,\"msg\":\"\",\"group_id\":\"single\",\"run_id\":\"c6usir58gb188nj6a000\",\"event\":{\"message_event\":{\"message\":\"DhtQueryDuration: 6.578146ms\"}}}\n\n{\"ts\":1639827872994590457,\"msg\":\"\",\"group_id\":\"single\",\"run_id\":\"c6usir58gb188nj6a000\",\"event\":{\"message_event\":{\"message\":\"__________________\"}}}\n\n{\"ts\":1639827872994604263,\"msg\":\"\",\"group_id\":\"single\",\"run_id\":\"c6usir58gb188nj6a000\",\"event\":{\"message_event\":{\"message\":\"releasing peers!\"}}}\n\n"
     ]
    }
   ],
   "source": [
    "file_type = \".out\"\n",
    "search_str = \"___UploaderData___\"\n",
    "\n",
    "def check_dir_for_target_lines(search_path):\n",
    "    target_line = []\n",
    "    result = []\n",
    "    targets = 13\n",
    "    success = False\n",
    "    for fname in os.listdir(path=search_path):\n",
    "        if fname.endswith(file_type):\n",
    "                fo = open(search_path + \"/\" + fname)\n",
    "                line = fo.readline()\n",
    "                line_no = 1\n",
    "                while line != '' :\n",
    "                        index = line.find(search_str)\n",
    "                        if ( index != -1) :\n",
    "                            print(fname, \"[\", line_no, \",\", index, \"] \", line, sep=\"\")\n",
    "                            success = True\n",
    "                        line = fo.readline()\n",
    "                        if success == True and targets > 0:\n",
    "                            result.append(line)\n",
    "                            targets -= 1\n",
    "                        line_no += 1\n",
    "                fo.close()\n",
    "    return result\n",
    "\n",
    "output = []\n",
    "output_lines = []\n",
    "for n in all_paths_containing_target:\n",
    "    output = check_dir_for_target_lines(n)\n",
    "    if output:\n",
    "        for l in output:\n",
    "            print(l)\n",
    "            output_lines.append(l)\n"
   ]
  },
  {
   "source": [
    "### Parse Results to Data Frame"
   ],
   "cell_type": "markdown",
   "metadata": {}
  },
  {
   "cell_type": "code",
   "execution_count": 211,
   "metadata": {},
   "outputs": [
    {
     "output_type": "stream",
     "name": "stdout",
     "text": [
      "{'RunID': 'c6usir58gb188nj6a000', 'Instances': '10', 'SimLatency': '100ms', 'SimPeerBandwidth (bytes per second)': '1048576', 'SimJitter (ms)': '0s', 'SimLoss (%)': '0', 'SimCorrupt (%)': '0', 'S2CheckDuration': '4.964329012s', 'OriginalityRatio (RO)': '0.7', 'UploadedOriginalCombinations': '14', 'UploadDuration': '5.354883614s', 'DhtQueryDuration': '6.578146ms'}\n"
     ]
    },
    {
     "output_type": "execute_result",
     "data": {
      "text/plain": [
       "                                                        0\n",
       "RunID                                c6usir58gb188nj6a000\n",
       "Instances                                              10\n",
       "SimLatency                                          100ms\n",
       "SimPeerBandwidth (bytes per second)               1048576\n",
       "SimJitter (ms)                                         0s\n",
       "SimLoss (%)                                             0\n",
       "SimCorrupt (%)                                          0\n",
       "S2CheckDuration                              4.964329012s\n",
       "OriginalityRatio (RO)                                 0.7\n",
       "UploadedOriginalCombinations                           14\n",
       "UploadDuration                               5.354883614s\n",
       "DhtQueryDuration                               6.578146ms"
      ],
      "text/html": "<div>\n<style scoped>\n    .dataframe tbody tr th:only-of-type {\n        vertical-align: middle;\n    }\n\n    .dataframe tbody tr th {\n        vertical-align: top;\n    }\n\n    .dataframe thead th {\n        text-align: right;\n    }\n</style>\n<table border=\"1\" class=\"dataframe\">\n  <thead>\n    <tr style=\"text-align: right;\">\n      <th></th>\n      <th>0</th>\n    </tr>\n  </thead>\n  <tbody>\n    <tr>\n      <th>RunID</th>\n      <td>c6usir58gb188nj6a000</td>\n    </tr>\n    <tr>\n      <th>Instances</th>\n      <td>10</td>\n    </tr>\n    <tr>\n      <th>SimLatency</th>\n      <td>100ms</td>\n    </tr>\n    <tr>\n      <th>SimPeerBandwidth (bytes per second)</th>\n      <td>1048576</td>\n    </tr>\n    <tr>\n      <th>SimJitter (ms)</th>\n      <td>0s</td>\n    </tr>\n    <tr>\n      <th>SimLoss (%)</th>\n      <td>0</td>\n    </tr>\n    <tr>\n      <th>SimCorrupt (%)</th>\n      <td>0</td>\n    </tr>\n    <tr>\n      <th>S2CheckDuration</th>\n      <td>4.964329012s</td>\n    </tr>\n    <tr>\n      <th>OriginalityRatio (RO)</th>\n      <td>0.7</td>\n    </tr>\n    <tr>\n      <th>UploadedOriginalCombinations</th>\n      <td>14</td>\n    </tr>\n    <tr>\n      <th>UploadDuration</th>\n      <td>5.354883614s</td>\n    </tr>\n    <tr>\n      <th>DhtQueryDuration</th>\n      <td>6.578146ms</td>\n    </tr>\n  </tbody>\n</table>\n</div>"
     },
     "metadata": {},
     "execution_count": 211
    }
   ],
   "source": [
    "import json\n",
    "import pandas as pd\n",
    "\n",
    "#d = {'Instances': [], 'Latency': [], 'Bandwidth': [], 'Jitter': [], 'Loss': [], 'Corrupt': [], 'S2CheckDuration': [], 'OriginalityRatio': [], 'OriginalCombinations': [], 'DhtUploadDuration': [], 'DhtQueryDuration': []}\n",
    "\n",
    "kvs_dict = {}\n",
    "kvs_dict[\"RunID\"] = outputs_folder\n",
    "for o in output_lines:\n",
    "    m = json.loads(o)[\"event\"][\"message_event\"][\"message\"]\n",
    "    kv = m.split(\": \", 1)\n",
    "    if len(kv) > 1:\n",
    "        kvs_dict[kv[0]] = kv[1]\n",
    "print(kvs_dict)\n",
    "\n",
    "pd.DataFrame.from_dict(kvs_dict, orient='index')\n"
   ]
  },
  {
   "source": [
    "### Accumulate all Runs "
   ],
   "cell_type": "markdown",
   "metadata": {}
  },
  {
   "cell_type": "code",
   "execution_count": null,
   "metadata": {},
   "outputs": [],
   "source": []
  }
 ],
 "metadata": {
  "kernelspec": {
   "display_name": "Python 3 (ipykernel)",
   "language": "python",
   "name": "python3"
  }
 },
 "nbformat": 4,
 "nbformat_minor": 5
}