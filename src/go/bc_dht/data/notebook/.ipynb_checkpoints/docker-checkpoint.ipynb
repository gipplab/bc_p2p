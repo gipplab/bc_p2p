{
 "cells": [
  {
   "cell_type": "markdown",
   "id": "19b86cae",
   "metadata": {},
   "source": [
    "# Notebook to Reproduce Originality Detection Findings"
   ]
  },
  {
   "cell_type": "markdown",
   "id": "1fdc957f",
   "metadata": {},
   "source": [
    "## Start Testground\n",
    "\n",
    "```\n",
    "$ testground daemon\n",
    "```\n",
    "\n",
    "## Run Testplans in Docker:\n",
    "``` \n",
    "$ testground run single --plan=coopbc --testcase=bc --runner=local:docker --builder=docker:go --instances=10 --collect\n",
    "```\n",
    "\n",
    "### Run Testplans in K8S:\n",
    "```\n",
    "$ testground run single --plan=coopbc --testcase=bc --runner=cluster:k8s --builder=docker:go --instances=10 --collect --build-cfg go_proxy_mode=direct\n",
    "```"
   ]
  },
  {
   "cell_type": "markdown",
   "id": "b6941413",
   "metadata": {},
   "source": [
    "# Parsing Outputs"
   ]
  },
  {
   "cell_type": "code",
   "execution_count": 4,
   "id": "351216e9",
   "metadata": {
    "scrolled": true
   },
   "outputs": [
    {
     "ename": "SyntaxError",
     "evalue": "invalid syntax (2075608911.py, line 1)",
     "output_type": "error",
     "traceback": [
      "\u001b[0;36m  File \u001b[0;32m\"/tmp/ipykernel_202968/2075608911.py\"\u001b[0;36m, line \u001b[0;32m1\u001b[0m\n\u001b[0;31m    var outputs_folder = \"../outputs/local_docker/coopbc/c6urngl8gb10avm5bmgg\"\u001b[0m\n\u001b[0m        ^\u001b[0m\n\u001b[0;31mSyntaxError\u001b[0m\u001b[0;31m:\u001b[0m invalid syntax\n"
     ]
    }
   ],
   "source": [
    "var outputs_folder_path = \"../outputs/local_docker/coopbc/c6urngl8gb10avm5bmgg/\""
   ]
  },
  {
   "cell_type": "code",
   "execution_count": null,
   "id": "35270956",
   "metadata": {},
   "outputs": [],
   "source": [
    "with open(file) as f:\n",
    "    lines = f.readlines()"
   ]
  }
 ],
 "metadata": {
  "kernelspec": {
   "display_name": "Python 3 (ipykernel)",
   "language": "python",
   "name": "python3"
  },
  "language_info": {
   "codemirror_mode": {
    "name": "ipython",
    "version": 3
   },
   "file_extension": ".py",
   "mimetype": "text/x-python",
   "name": "python",
   "nbconvert_exporter": "python",
   "pygments_lexer": "ipython3",
   "version": "3.9.9"
  }
 },
 "nbformat": 4,
 "nbformat_minor": 5
}
